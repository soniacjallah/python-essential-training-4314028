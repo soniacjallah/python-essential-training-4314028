{
 "cells": [
  {
   "cell_type": "code",
   "execution_count": 2,
   "id": "6198165c",
   "metadata": {},
   "outputs": [],
   "source": [
    "from decimal import Decimal, getcontext"
   ]
  },
  {
   "cell_type": "markdown",
   "id": "07c07c37",
   "metadata": {},
   "source": [
    "## Integers"
   ]
  },
  {
   "cell_type": "code",
   "execution_count": 3,
   "id": "90fc3a0f",
   "metadata": {},
   "outputs": [
    {
     "data": {
      "text/plain": [
       "100"
      ]
     },
     "execution_count": 3,
     "metadata": {},
     "output_type": "execute_result"
    }
   ],
   "source": [
    "int('100')"
   ]
  },
  {
   "cell_type": "code",
   "execution_count": 4,
   "id": "d8b37c5e",
   "metadata": {},
   "outputs": [
    {
     "data": {
      "text/plain": [
       "4"
      ]
     },
     "execution_count": 4,
     "metadata": {},
     "output_type": "execute_result"
    }
   ],
   "source": [
    "int('100', 2)\n",
    "\n",
    "# Convert string to a base 2 or base n number"
   ]
  },
  {
   "cell_type": "code",
   "execution_count": 3,
   "id": "4a827a52",
   "metadata": {},
   "outputs": [
    {
     "ename": "TypeError",
     "evalue": "int() can't convert non-string with explicit base",
     "output_type": "error",
     "traceback": [
      "\u001b[0;31m---------------------------------------------------------------------------\u001b[0m",
      "\u001b[0;31mTypeError\u001b[0m                                 Traceback (most recent call last)",
      "\u001b[1;32m/workspaces/python-essential-training-4314028/exercise_files/03_02_Other_Numbers.ipynb Cell 5\u001b[0m line \u001b[0;36m1\n\u001b[0;32m----> <a href='vscode-notebook-cell://codespaces%2Bautomatic-capybara-j9r7q5vw99fq9j6/workspaces/python-essential-training-4314028/exercise_files/03_02_Other_Numbers.ipynb#W4sdnNjb2RlLXJlbW90ZQ%3D%3D?line=0'>1</a>\u001b[0m \u001b[39mint\u001b[39;49m(\u001b[39m100\u001b[39;49m, \u001b[39m2\u001b[39;49m)\n\u001b[1;32m      <a href='vscode-notebook-cell://codespaces%2Bautomatic-capybara-j9r7q5vw99fq9j6/workspaces/python-essential-training-4314028/exercise_files/03_02_Other_Numbers.ipynb#W4sdnNjb2RlLXJlbW90ZQ%3D%3D?line=2'>3</a>\u001b[0m \u001b[39m# Must be in quotes because it may include characters that are not numbers\u001b[39;00m\n",
      "\u001b[0;31mTypeError\u001b[0m: int() can't convert non-string with explicit base"
     ]
    }
   ],
   "source": [
    "int(100, 2)\n",
    "\n",
    "# Must be in quotes because it may include characters that are not numbers"
   ]
  },
  {
   "cell_type": "code",
   "execution_count": 6,
   "id": "a8a0e4f7",
   "metadata": {},
   "outputs": [
    {
     "data": {
      "text/plain": [
       "427"
      ]
     },
     "execution_count": 6,
     "metadata": {},
     "output_type": "execute_result"
    }
   ],
   "source": [
    "int('1ab', 16)"
   ]
  },
  {
   "cell_type": "code",
   "execution_count": 7,
   "id": "f625c653",
   "metadata": {},
   "outputs": [
    {
     "data": {
      "text/plain": [
       "0.19999999999999996"
      ]
     },
     "execution_count": 7,
     "metadata": {},
     "output_type": "execute_result"
    }
   ],
   "source": [
    "1.2 - 1.0"
   ]
  },
  {
   "cell_type": "markdown",
   "id": "8c7e7020",
   "metadata": {},
   "source": [
    "## Decimals"
   ]
  },
  {
   "cell_type": "code",
   "execution_count": 4,
   "id": "0e9334d6",
   "metadata": {},
   "outputs": [
    {
     "data": {
      "text/plain": [
       "Context(prec=28, rounding=ROUND_HALF_EVEN, Emin=-999999, Emax=999999, capitals=1, clamp=0, flags=[], traps=[InvalidOperation, DivisionByZero, Overflow])"
      ]
     },
     "execution_count": 4,
     "metadata": {},
     "output_type": "execute_result"
    }
   ],
   "source": [
    "# Need to import getcontext function and Decimal class from decimal module; imports usually go at the top of a script.\n",
    "\n",
    "getcontext()"
   ]
  },
  {
   "cell_type": "code",
   "execution_count": 5,
   "id": "32dc75fb",
   "metadata": {},
   "outputs": [],
   "source": [
    "getcontext().prec=4"
   ]
  },
  {
   "cell_type": "code",
   "execution_count": 6,
   "id": "fd4dad61",
   "metadata": {},
   "outputs": [
    {
     "data": {
      "text/plain": [
       "Context(prec=4, rounding=ROUND_HALF_EVEN, Emin=-999999, Emax=999999, capitals=1, clamp=0, flags=[], traps=[InvalidOperation, DivisionByZero, Overflow])"
      ]
     },
     "execution_count": 6,
     "metadata": {},
     "output_type": "execute_result"
    }
   ],
   "source": [
    "getcontext()"
   ]
  },
  {
   "cell_type": "code",
   "execution_count": 7,
   "id": "645adafe",
   "metadata": {},
   "outputs": [
    {
     "data": {
      "text/plain": [
       "Decimal('0.3333')"
      ]
     },
     "execution_count": 7,
     "metadata": {},
     "output_type": "execute_result"
    }
   ],
   "source": [
    "Decimal(1) / Decimal(3)"
   ]
  },
  {
   "cell_type": "code",
   "execution_count": 8,
   "id": "4c4f9d41",
   "metadata": {},
   "outputs": [],
   "source": [
    "getcontext().prec=2"
   ]
  },
  {
   "cell_type": "code",
   "execution_count": 9,
   "id": "720466f4",
   "metadata": {},
   "outputs": [
    {
     "data": {
      "text/plain": [
       "Decimal('0.33')"
      ]
     },
     "execution_count": 9,
     "metadata": {},
     "output_type": "execute_result"
    }
   ],
   "source": [
    "Decimal(1) / Decimal(3)"
   ]
  },
  {
   "cell_type": "code",
   "execution_count": 11,
   "id": "1ae61cfc",
   "metadata": {},
   "outputs": [
    {
     "data": {
      "text/plain": [
       "Decimal('3.140000000000000124344978758017532527446746826171875')"
      ]
     },
     "execution_count": 11,
     "metadata": {},
     "output_type": "execute_result"
    }
   ],
   "source": [
    "# Example of why floating point errors arise\n",
    "\n",
    "Decimal(3.14)\n"
   ]
  },
  {
   "cell_type": "code",
   "execution_count": 12,
   "id": "9463274c",
   "metadata": {},
   "outputs": [
    {
     "data": {
      "text/plain": [
       "Decimal('3.14')"
      ]
     },
     "execution_count": 12,
     "metadata": {},
     "output_type": "execute_result"
    }
   ],
   "source": [
    "Decimal('3.14')"
   ]
  },
  {
   "cell_type": "code",
   "execution_count": 18,
   "id": "03e53ec7",
   "metadata": {},
   "outputs": [
    {
     "data": {
      "text/plain": [
       "0.2"
      ]
     },
     "execution_count": 18,
     "metadata": {},
     "output_type": "execute_result"
    }
   ],
   "source": [
    "round(1.2 - 1.0, 2)"
   ]
  },
  {
   "cell_type": "code",
   "execution_count": null,
   "id": "b33aadf1",
   "metadata": {},
   "outputs": [],
   "source": [
    "# Always round before showing results to end users."
   ]
  }
 ],
 "metadata": {
  "kernelspec": {
   "display_name": "Python 3 (ipykernel)",
   "language": "python",
   "name": "python3"
  },
  "language_info": {
   "codemirror_mode": {
    "name": "ipython",
    "version": 3
   },
   "file_extension": ".py",
   "mimetype": "text/x-python",
   "name": "python",
   "nbconvert_exporter": "python",
   "pygments_lexer": "ipython3",
   "version": "3.10.8"
  }
 },
 "nbformat": 4,
 "nbformat_minor": 5
}
