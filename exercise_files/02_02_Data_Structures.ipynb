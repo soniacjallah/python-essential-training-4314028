{
 "cells": [
  {
   "cell_type": "markdown",
   "id": "2d0359bf",
   "metadata": {},
   "source": [
    "# Data Structures"
   ]
  },
  {
   "cell_type": "markdown",
   "id": "cc61a7fd",
   "metadata": {},
   "source": [
    "## Lists"
   ]
  },
  {
   "cell_type": "code",
   "execution_count": 1,
   "id": "124dfa4d",
   "metadata": {},
   "outputs": [
    {
     "name": "stdout",
     "output_type": "stream",
     "text": [
      "[28, 29, 30, 31]\n"
     ]
    }
   ],
   "source": [
    "my_list = [28,29,30,31]\n",
    "print(my_list)"
   ]
  },
  {
   "cell_type": "code",
   "execution_count": 5,
   "id": "343cab68",
   "metadata": {},
   "outputs": [
    {
     "name": "stdout",
     "output_type": "stream",
     "text": [
      "['list', 'of', 'strings', 'by', 'Sonia']\n"
     ]
    }
   ],
   "source": [
    "my_list = ['list','of','strings','by','Sonia']\n",
    "\n",
    "print(my_list)"
   ]
  },
  {
   "cell_type": "code",
   "execution_count": 6,
   "id": "31dd5ace",
   "metadata": {},
   "outputs": [],
   "source": [
    "my_list = [28,'Sonia', True, []]"
   ]
  },
  {
   "cell_type": "code",
   "execution_count": 30,
   "id": "341e6193",
   "metadata": {},
   "outputs": [],
   "source": [
    "my_list = [[28,29,30],[False, True], []]"
   ]
  },
  {
   "cell_type": "code",
   "execution_count": 9,
   "id": "71054a67",
   "metadata": {},
   "outputs": [
    {
     "name": "stdout",
     "output_type": "stream",
     "text": [
      "[[28, 29, 30], [False, True], []]\n"
     ]
    }
   ],
   "source": [
    "len(my_list)\n",
    "\n",
    "print(my_list)"
   ]
  },
  {
   "cell_type": "markdown",
   "id": "fe9bdfd8",
   "metadata": {},
   "source": [
    "## Sets"
   ]
  },
  {
   "cell_type": "code",
   "execution_count": 11,
   "id": "2cd42f05",
   "metadata": {},
   "outputs": [
    {
     "name": "stdout",
     "output_type": "stream",
     "text": [
      "{1, 2, 3, 4, 5}\n"
     ]
    }
   ],
   "source": [
    "# Must be unique values\n",
    "my_set = {1,2,3,4,5}\n",
    "print(my_set)"
   ]
  },
  {
   "cell_type": "code",
   "execution_count": 9,
   "id": "ce2034e0",
   "metadata": {},
   "outputs": [
    {
     "data": {
      "text/plain": [
       "set"
      ]
     },
     "execution_count": 9,
     "metadata": {},
     "output_type": "execute_result"
    }
   ],
   "source": [
    "type(my_set)"
   ]
  },
  {
   "cell_type": "code",
   "execution_count": 16,
   "id": "c40a0c41",
   "metadata": {},
   "outputs": [
    {
     "name": "stdout",
     "output_type": "stream",
     "text": [
      "My set holds the following values: {1, 2, 3, 4, 5}\n"
     ]
    }
   ],
   "source": [
    "len(my_set)\n",
    "\n",
    "print('My set holds the following values:', my_set)"
   ]
  },
  {
   "cell_type": "code",
   "execution_count": 20,
   "id": "4dacc8e7",
   "metadata": {},
   "outputs": [
    {
     "name": "stdout",
     "output_type": "stream",
     "text": [
      "2\n",
      "{1, 2}\n"
     ]
    }
   ],
   "source": [
    "my_set = {1,1,2,2}\n",
    "print(len(my_set))\n",
    "print(my_set)"
   ]
  },
  {
   "cell_type": "code",
   "execution_count": 21,
   "id": "04796b0e",
   "metadata": {},
   "outputs": [
    {
     "data": {
      "text/plain": [
       "False"
      ]
     },
     "execution_count": 21,
     "metadata": {},
     "output_type": "execute_result"
    }
   ],
   "source": [
    "[1,2] == [2,1]"
   ]
  },
  {
   "cell_type": "code",
   "execution_count": 22,
   "id": "542b7600",
   "metadata": {},
   "outputs": [
    {
     "data": {
      "text/plain": [
       "True"
      ]
     },
     "execution_count": 22,
     "metadata": {},
     "output_type": "execute_result"
    }
   ],
   "source": [
    "{1,2,3} == {3,2,1,1,1}"
   ]
  },
  {
   "cell_type": "markdown",
   "id": "2d54cd5f",
   "metadata": {},
   "source": [
    "## Tuples"
   ]
  },
  {
   "cell_type": "markdown",
   "id": "d3fcf6d4",
   "metadata": {},
   "source": [
    "Once a tuple is declared, you can't add to it or change any of the values in it. Very memory efficient (this would be the equivalent of CHAR vs VARCHAR in SQL)."
   ]
  },
  {
   "cell_type": "code",
   "execution_count": 8,
   "id": "f8d946cf",
   "metadata": {},
   "outputs": [],
   "source": [
    "my_tuple = (1,2,3)"
   ]
  },
  {
   "cell_type": "code",
   "execution_count": 5,
   "id": "2b1218e0",
   "metadata": {},
   "outputs": [
    {
     "data": {
      "text/plain": [
       "3"
      ]
     },
     "execution_count": 5,
     "metadata": {},
     "output_type": "execute_result"
    }
   ],
   "source": [
    "len(my_tuple)"
   ]
  },
  {
   "cell_type": "code",
   "execution_count": 6,
   "id": "0b11e898",
   "metadata": {},
   "outputs": [
    {
     "data": {
      "text/plain": [
       "False"
      ]
     },
     "execution_count": 6,
     "metadata": {},
     "output_type": "execute_result"
    }
   ],
   "source": [
    "(1,2) == (2,1)"
   ]
  },
  {
   "cell_type": "code",
   "execution_count": 7,
   "id": "f4f0164e",
   "metadata": {},
   "outputs": [
    {
     "ename": "NameError",
     "evalue": "name 'my_list' is not defined",
     "output_type": "error",
     "traceback": [
      "\u001b[0;31m---------------------------------------------------------------------------\u001b[0m",
      "\u001b[0;31mNameError\u001b[0m                                 Traceback (most recent call last)",
      "\u001b[1;32m/workspaces/python-essential-training-4314028/exercise_files/02_02_Data_Structures.ipynb Cell 19\u001b[0m line \u001b[0;36m1\n\u001b[0;32m----> <a href='vscode-notebook-cell://codespaces%2Bautomatic-capybara-j9r7q5vw99fq9j6/workspaces/python-essential-training-4314028/exercise_files/02_02_Data_Structures.ipynb#X24sdnNjb2RlLXJlbW90ZQ%3D%3D?line=0'>1</a>\u001b[0m my_list\u001b[39m.\u001b[39mappend(\u001b[39m'\u001b[39m\u001b[39mEmpire, today\u001b[39m\u001b[39m'\u001b[39m)\n\u001b[1;32m      <a href='vscode-notebook-cell://codespaces%2Bautomatic-capybara-j9r7q5vw99fq9j6/workspaces/python-essential-training-4314028/exercise_files/02_02_Data_Structures.ipynb#X24sdnNjb2RlLXJlbW90ZQ%3D%3D?line=1'>2</a>\u001b[0m \u001b[39mprint\u001b[39m(my_list)\n",
      "\u001b[0;31mNameError\u001b[0m: name 'my_list' is not defined"
     ]
    }
   ],
   "source": [
    "my_list.append('800-588-2300, Empire, today')\n",
    "print(my_list)"
   ]
  },
  {
   "cell_type": "code",
   "execution_count": 25,
   "id": "3fc754a7",
   "metadata": {},
   "outputs": [
    {
     "ename": "AttributeError",
     "evalue": "'tuple' object has no attribute 'append'",
     "output_type": "error",
     "traceback": [
      "\u001b[0;31m---------------------------------------------------------------------------\u001b[0m",
      "\u001b[0;31mAttributeError\u001b[0m                            Traceback (most recent call last)",
      "Input \u001b[0;32mIn [25]\u001b[0m, in \u001b[0;36m<module>\u001b[0;34m\u001b[0m\n\u001b[0;32m----> 1\u001b[0m \u001b[43mmy_tuple\u001b[49m\u001b[38;5;241;43m.\u001b[39;49m\u001b[43mappend\u001b[49m(\u001b[38;5;241m4\u001b[39m)\n",
      "\u001b[0;31mAttributeError\u001b[0m: 'tuple' object has no attribute 'append'"
     ]
    }
   ],
   "source": [
    "my_tuple.append(4)"
   ]
  },
  {
   "cell_type": "markdown",
   "id": "491e40c6",
   "metadata": {},
   "source": [
    "## Dictionaries"
   ]
  },
  {
   "cell_type": "markdown",
   "id": "eaa09622",
   "metadata": {},
   "source": [
    "Has unique keys; will always take the last key-value pair entered for a specific key. "
   ]
  },
  {
   "cell_type": "code",
   "execution_count": 10,
   "id": "07eacb6d",
   "metadata": {},
   "outputs": [],
   "source": [
    "my_dictionary = {\n",
    "    'cheesecake': 'A cream cheese based dessert', \n",
    "    'apple': 'An apple wards off doctors as garlic wards off vampires'\n",
    "}"
   ]
  },
  {
   "cell_type": "code",
   "execution_count": 11,
   "id": "e62a0f43",
   "metadata": {},
   "outputs": [
    {
     "data": {
      "text/plain": [
       "'An apple wards off doctors as garlic wards off vampires'"
      ]
     },
     "execution_count": 11,
     "metadata": {},
     "output_type": "execute_result"
    }
   ],
   "source": [
    "my_dictionary['apple']"
   ]
  },
  {
   "cell_type": "code",
   "execution_count": 13,
   "id": "40a2a490",
   "metadata": {},
   "outputs": [],
   "source": [
    "my_dictionary = {\n",
    "    'cheesecake': 'A cream cheese based dessert', \n",
    "    'apple': 'An apple wards off doctors as garlic wards off vampires',\n",
    "    'apple': 'A fruit that comes from trees'\n",
    "}"
   ]
  },
  {
   "cell_type": "code",
   "execution_count": 14,
   "id": "97ccc4aa",
   "metadata": {},
   "outputs": [
    {
     "data": {
      "text/plain": [
       "'A fruit that comes from trees'"
      ]
     },
     "execution_count": 14,
     "metadata": {},
     "output_type": "execute_result"
    }
   ],
   "source": [
    "my_dictionary['apple']"
   ]
  },
  {
   "cell_type": "code",
   "execution_count": null,
   "id": "cb8ac863",
   "metadata": {},
   "outputs": [],
   "source": []
  }
 ],
 "metadata": {
  "kernelspec": {
   "display_name": "Python 3 (ipykernel)",
   "language": "python",
   "name": "python3"
  },
  "language_info": {
   "codemirror_mode": {
    "name": "ipython",
    "version": 3
   },
   "file_extension": ".py",
   "mimetype": "text/x-python",
   "name": "python",
   "nbconvert_exporter": "python",
   "pygments_lexer": "ipython3",
   "version": "3.10.8"
  }
 },
 "nbformat": 4,
 "nbformat_minor": 5
}
