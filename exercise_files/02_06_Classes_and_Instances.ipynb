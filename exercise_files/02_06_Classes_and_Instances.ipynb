{
 "cells": [
  {
   "cell_type": "markdown",
   "id": "7e7cecd6",
   "metadata": {},
   "source": [
    "## Classes"
   ]
  },
  {
   "cell_type": "markdown",
   "id": "f1b2e2b3",
   "metadata": {},
   "source": [
    "Sonia was here!"
   ]
  },
  {
   "cell_type": "code",
   "execution_count": 2,
   "id": "d5cde69b",
   "metadata": {},
   "outputs": [],
   "source": [
    "class Cat:\n",
    "    # When ever an instance is created, do the following; in this case, we're defining some attributes\n",
    "    def __init__(self, name):\n",
    "        self.name = name\n",
    "        self.legs = 4\n",
    "    \n",
    "    # Defining a function for this class and all instances of it that takes in variables\n",
    "    def speak(self):\n",
    "        print(self.name + ' says: Meow!')\n",
    "        \n"
   ]
  },
  {
   "cell_type": "code",
   "execution_count": 3,
   "id": "5b3dde35",
   "metadata": {},
   "outputs": [],
   "source": [
    "my_cat = Cat('Teddy')\n",
    "another_cat = Cat('Toby')"
   ]
  },
  {
   "cell_type": "code",
   "execution_count": 4,
   "id": "ceed1af6",
   "metadata": {},
   "outputs": [
    {
     "name": "stdout",
     "output_type": "stream",
     "text": [
      "Teddy says: Meow!\n"
     ]
    }
   ],
   "source": [
    "my_cat.speak()"
   ]
  },
  {
   "cell_type": "code",
   "execution_count": 5,
   "id": "b85ea67b",
   "metadata": {},
   "outputs": [
    {
     "name": "stdout",
     "output_type": "stream",
     "text": [
      "Toby says: Meow!\n"
     ]
    }
   ],
   "source": [
    "another_cat.speak()"
   ]
  },
  {
   "cell_type": "code",
   "execution_count": null,
   "id": "6a9df406",
   "metadata": {},
   "outputs": [],
   "source": []
  }
 ],
 "metadata": {
  "kernelspec": {
   "display_name": "Python 3 (ipykernel)",
   "language": "python",
   "name": "python3"
  },
  "language_info": {
   "codemirror_mode": {
    "name": "ipython",
    "version": 3
   },
   "file_extension": ".py",
   "mimetype": "text/x-python",
   "name": "python",
   "nbconvert_exporter": "python",
   "pygments_lexer": "ipython3",
   "version": "3.10.8"
  }
 },
 "nbformat": 4,
 "nbformat_minor": 5
}
