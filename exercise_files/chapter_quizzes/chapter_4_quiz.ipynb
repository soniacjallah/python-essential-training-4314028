{
 "cells": [
  {
   "cell_type": "markdown",
   "metadata": {},
   "source": [
    "# Chapter 4 Quiz"
   ]
  },
  {
   "cell_type": "markdown",
   "metadata": {},
   "source": [
    "### Question 1"
   ]
  },
  {
   "cell_type": "code",
   "execution_count": null,
   "metadata": {},
   "outputs": [],
   "source": [
    "# What is not a method of handling missing keys in a dictionary?\n",
    "\n",
    "\n",
    "# using the defaultval function"
   ]
  },
  {
   "cell_type": "markdown",
   "metadata": {},
   "source": [
    "### Question 2"
   ]
  },
  {
   "cell_type": "code",
   "execution_count": null,
   "metadata": {},
   "outputs": [],
   "source": [
    "# Which statement is false?\n",
    "\n",
    "\n",
    "# The order of elements in a set is important.\n",
    "\n"
   ]
  },
  {
   "cell_type": "markdown",
   "metadata": {},
   "source": [
    "### Question 3"
   ]
  },
  {
   "cell_type": "code",
   "execution_count": null,
   "metadata": {},
   "outputs": [],
   "source": [
    "# You are given these data structure values:\n",
    "\n",
    "# values = [[1, 'i', 'a'], ['2', 'we', 'be', 'it'], [3, 'are', 'few', 'too']]\n",
    "\n",
    "\n",
    "# Then, you are asked to produce this structure:\n",
    "\n",
    "# {\n",
    "#         1: ['i', 'a'],\n",
    "#         2: ['we', 'be', 'it'],\n",
    "#         3: ['are', 'few', 'too']\n",
    "# }\n",
    "\n",
    "\n",
    "# Which line of Python will do this?\n",
    "\n",
    "\n",
    "# {item[0]: item[1:] for item in values}"
   ]
  },
  {
   "cell_type": "markdown",
   "metadata": {},
   "source": [
    "### Question 4"
   ]
  },
  {
   "cell_type": "code",
   "execution_count": null,
   "metadata": {},
   "outputs": [],
   "source": [
    "# How would you write a nested list comprehension to apply a function someFunc to all comments in a list of blog objects?\n",
    "\n",
    "# [[someFunc(comment) for comment in blog.comments] for blog in blogs]\n"
   ]
  },
  {
   "cell_type": "markdown",
   "metadata": {},
   "source": [
    "### Question 5"
   ]
  },
  {
   "cell_type": "code",
   "execution_count": null,
   "metadata": {},
   "outputs": [],
   "source": [
    "# Which option lists the numbers 100 to 0, backwards, by increments of 5? ([100, 95, 90,..., 0])\n",
    "\n",
    "\n",
    "# list(range(101))[::-5]"
   ]
  }
 ],
 "metadata": {
  "kernelspec": {
   "display_name": "Python 3",
   "language": "python",
   "name": "python3"
  },
  "language_info": {
   "codemirror_mode": {
    "name": "ipython",
    "version": 3
   },
   "file_extension": ".py",
   "mimetype": "text/x-python",
   "name": "python",
   "nbconvert_exporter": "python",
   "pygments_lexer": "ipython3",
   "version": "3.10.8"
  }
 },
 "nbformat": 4,
 "nbformat_minor": 2
}
