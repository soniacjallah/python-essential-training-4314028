{
 "cells": [
  {
   "cell_type": "code",
   "execution_count": 19,
   "id": "035347bb",
   "metadata": {},
   "outputs": [],
   "source": [
    "import math"
   ]
  },
  {
   "cell_type": "markdown",
   "id": "02d18456",
   "metadata": {},
   "source": [
    "## Strings"
   ]
  },
  {
   "cell_type": "markdown",
   "id": "bfc860a0",
   "metadata": {},
   "source": [
    "### Slicing"
   ]
  },
  {
   "cell_type": "code",
   "execution_count": 1,
   "id": "387a2e6e",
   "metadata": {},
   "outputs": [],
   "source": [
    "name = 'My name is Sonia Jallah'"
   ]
  },
  {
   "cell_type": "code",
   "execution_count": 2,
   "id": "1ebc90d0",
   "metadata": {},
   "outputs": [
    {
     "data": {
      "text/plain": [
       "'M'"
      ]
     },
     "execution_count": 2,
     "metadata": {},
     "output_type": "execute_result"
    }
   ],
   "source": [
    "name[0]"
   ]
  },
  {
   "cell_type": "code",
   "execution_count": 3,
   "id": "927b4d55",
   "metadata": {},
   "outputs": [
    {
     "data": {
      "text/plain": [
       "'y'"
      ]
     },
     "execution_count": 3,
     "metadata": {},
     "output_type": "execute_result"
    }
   ],
   "source": [
    "name[1]"
   ]
  },
  {
   "cell_type": "code",
   "execution_count": 4,
   "id": "37f585af",
   "metadata": {},
   "outputs": [
    {
     "data": {
      "text/plain": [
       "'My name'"
      ]
     },
     "execution_count": 4,
     "metadata": {},
     "output_type": "execute_result"
    }
   ],
   "source": [
    "name[0:7]"
   ]
  },
  {
   "cell_type": "code",
   "execution_count": 5,
   "id": "147d51d5",
   "metadata": {},
   "outputs": [
    {
     "data": {
      "text/plain": [
       "'My name'"
      ]
     },
     "execution_count": 5,
     "metadata": {},
     "output_type": "execute_result"
    }
   ],
   "source": [
    "name[:7]"
   ]
  },
  {
   "cell_type": "code",
   "execution_count": 6,
   "id": "8642d491",
   "metadata": {},
   "outputs": [
    {
     "data": {
      "text/plain": [
       "'Sonia Jallah'"
      ]
     },
     "execution_count": 6,
     "metadata": {},
     "output_type": "execute_result"
    }
   ],
   "source": [
    "name[11:]"
   ]
  },
  {
   "cell_type": "code",
   "execution_count": 9,
   "id": "0eb13957",
   "metadata": {},
   "outputs": [],
   "source": [
    "myList = [28,29,30,31,32]"
   ]
  },
  {
   "cell_type": "code",
   "execution_count": 10,
   "id": "11dc06e6",
   "metadata": {},
   "outputs": [
    {
     "data": {
      "text/plain": [
       "[30, 31]"
      ]
     },
     "execution_count": 10,
     "metadata": {},
     "output_type": "execute_result"
    }
   ],
   "source": [
    "myList[2:4]"
   ]
  },
  {
   "cell_type": "code",
   "execution_count": 11,
   "id": "6644ab0b",
   "metadata": {},
   "outputs": [
    {
     "data": {
      "text/plain": [
       "23"
      ]
     },
     "execution_count": 11,
     "metadata": {},
     "output_type": "execute_result"
    }
   ],
   "source": [
    "len(name)"
   ]
  },
  {
   "cell_type": "code",
   "execution_count": 12,
   "id": "75b57667",
   "metadata": {},
   "outputs": [
    {
     "data": {
      "text/plain": [
       "5"
      ]
     },
     "execution_count": 12,
     "metadata": {},
     "output_type": "execute_result"
    }
   ],
   "source": [
    "len(myList)"
   ]
  },
  {
   "cell_type": "markdown",
   "id": "2f62d3a0",
   "metadata": {},
   "source": [
    "### Formatting"
   ]
  },
  {
   "cell_type": "code",
   "execution_count": 13,
   "id": "46e3eee4",
   "metadata": {},
   "outputs": [
    {
     "data": {
      "text/plain": [
       "'My number is: 28'"
      ]
     },
     "execution_count": 13,
     "metadata": {},
     "output_type": "execute_result"
    }
   ],
   "source": [
    "'My number is: '+ str(28)"
   ]
  },
  {
   "cell_type": "code",
   "execution_count": 15,
   "id": "50b4d13a",
   "metadata": {},
   "outputs": [
    {
     "data": {
      "text/plain": [
       "'My number is: 28'"
      ]
     },
     "execution_count": 15,
     "metadata": {},
     "output_type": "execute_result"
    }
   ],
   "source": [
    "f'My number is: {28}'"
   ]
  },
  {
   "cell_type": "code",
   "execution_count": 17,
   "id": "bd3f66d7",
   "metadata": {},
   "outputs": [
    {
     "data": {
      "text/plain": [
       "'My number is: 28 and twice that is 56'"
      ]
     },
     "execution_count": 17,
     "metadata": {},
     "output_type": "execute_result"
    }
   ],
   "source": [
    "f'My number is: {28} and twice that is {2*28}'"
   ]
  },
  {
   "cell_type": "code",
   "execution_count": 20,
   "id": "9581a9bc",
   "metadata": {},
   "outputs": [
    {
     "data": {
      "text/plain": [
       "'Pi is: 3.14'"
      ]
     },
     "execution_count": 20,
     "metadata": {},
     "output_type": "execute_result"
    }
   ],
   "source": [
    "f'Pi is: {math.pi:.2f}'"
   ]
  },
  {
   "cell_type": "code",
   "execution_count": 21,
   "id": "4ac812ce",
   "metadata": {},
   "outputs": [
    {
     "data": {
      "text/plain": [
       "'Pi is: 3.141592653589793'"
      ]
     },
     "execution_count": 21,
     "metadata": {},
     "output_type": "execute_result"
    }
   ],
   "source": [
    "'Pi is: {}'.format(math.pi)"
   ]
  },
  {
   "cell_type": "markdown",
   "id": "9f153341",
   "metadata": {},
   "source": [
    "### Multi-line Strings"
   ]
  },
  {
   "cell_type": "code",
   "execution_count": 24,
   "id": "92cb7feb",
   "metadata": {},
   "outputs": [],
   "source": [
    "myString = '''\n",
    "Here is a long block of text\n",
    "I can add newlines!\n",
    "the text doesn't stop until it sees \\'\\'\\'\n",
    "Also, Full Metal Alchemist Brotherhood is one of the best animes ever :)\n",
    "\n",
    "'''"
   ]
  },
  {
   "cell_type": "code",
   "execution_count": 25,
   "id": "496129f8",
   "metadata": {},
   "outputs": [
    {
     "data": {
      "text/plain": [
       "\"\\nHere is a long block of text\\nI can add newlines!\\nthe text doesn't stop until it sees '''\\nAlso, Full Metal Alchemist Brotherhood is one of the best animes ever :)\\n\\n\""
      ]
     },
     "execution_count": 25,
     "metadata": {},
     "output_type": "execute_result"
    }
   ],
   "source": [
    "myString"
   ]
  },
  {
   "cell_type": "code",
   "execution_count": 26,
   "id": "a9b4ddec",
   "metadata": {},
   "outputs": [
    {
     "name": "stdout",
     "output_type": "stream",
     "text": [
      "\n",
      "Here is a long block of text\n",
      "I can add newlines!\n",
      "the text doesn't stop until it sees '''\n",
      "Also, Full Metal Alchemist Brotherhood is one of the best animes ever :)\n",
      "\n",
      "\n"
     ]
    }
   ],
   "source": [
    "print(myString)"
   ]
  },
  {
   "cell_type": "code",
   "execution_count": null,
   "id": "5fb8f96a",
   "metadata": {},
   "outputs": [],
   "source": []
  }
 ],
 "metadata": {
  "kernelspec": {
   "display_name": "Python 3 (ipykernel)",
   "language": "python",
   "name": "python3"
  },
  "language_info": {
   "codemirror_mode": {
    "name": "ipython",
    "version": 3
   },
   "file_extension": ".py",
   "mimetype": "text/x-python",
   "name": "python",
   "nbconvert_exporter": "python",
   "pygments_lexer": "ipython3",
   "version": "3.10.8"
  }
 },
 "nbformat": 4,
 "nbformat_minor": 5
}
