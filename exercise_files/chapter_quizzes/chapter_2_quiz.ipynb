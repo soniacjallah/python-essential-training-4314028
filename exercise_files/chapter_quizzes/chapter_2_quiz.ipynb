{
 "cells": [
  {
   "cell_type": "markdown",
   "metadata": {},
   "source": [
    "# Chapter 2 Quiz"
   ]
  },
  {
   "cell_type": "markdown",
   "metadata": {},
   "source": [
    "### Question 1"
   ]
  },
  {
   "cell_type": "code",
   "execution_count": null,
   "metadata": {},
   "outputs": [],
   "source": [
    "# '2' + '22' will be '222'"
   ]
  },
  {
   "cell_type": "markdown",
   "metadata": {},
   "source": [
    "### Question 2"
   ]
  },
  {
   "cell_type": "code",
   "execution_count": null,
   "metadata": {},
   "outputs": [],
   "source": [
    "# Assuming a Dog class exists, what is the type that this statement returns?\n",
    "\n",
    "# type(Dog('Rover')) will return Dog since the input is an initialized object of that class."
   ]
  },
  {
   "cell_type": "markdown",
   "metadata": {},
   "source": [
    "### Question 3"
   ]
  },
  {
   "cell_type": "code",
   "execution_count": 1,
   "metadata": {},
   "outputs": [],
   "source": [
    "# What is the value of var?\n",
    "\n",
    "# def addTwo(x):\n",
    "#    return x + 2\n",
    "\n",
    "# def multiply(a, b):\n",
    "#  return a * b\n",
    "\n",
    "# var = multiply(addTwo(2), 3)\n",
    "\n",
    "# var will return 12"
   ]
  },
  {
   "cell_type": "markdown",
   "metadata": {},
   "source": [
    "### Question 4"
   ]
  },
  {
   "cell_type": "code",
   "execution_count": null,
   "metadata": {},
   "outputs": [],
   "source": [
    "# In this code, what is the value of listLen?\n",
    "\n",
    "# myList = [[1,2], ['apple'], [3,4,5]]\n",
    "# listLen = len(myList)\n",
    "\n",
    "# Value of listLen will be 3"
   ]
  },
  {
   "cell_type": "markdown",
   "metadata": {},
   "source": [
    "### Question 5"
   ]
  },
  {
   "cell_type": "code",
   "execution_count": null,
   "metadata": {},
   "outputs": [],
   "source": [
    "# What does false = False do?\n",
    "\n",
    "# Sets variable false to the Boolean value False"
   ]
  },
  {
   "cell_type": "markdown",
   "metadata": {},
   "source": [
    "### Question 6"
   ]
  },
  {
   "cell_type": "code",
   "execution_count": null,
   "metadata": {},
   "outputs": [],
   "source": [
    "# What is the value of 456 % 10?\n",
    "\n",
    "# Value will be 6"
   ]
  },
  {
   "cell_type": "markdown",
   "metadata": {},
   "source": [
    "### Question 7"
   ]
  },
  {
   "cell_type": "code",
   "execution_count": null,
   "metadata": {},
   "outputs": [],
   "source": [
    "# What happens when this code is run?\n",
    "\n",
    "# var = (1,2,3)\n",
    "# var.append(4)\n",
    "\n",
    "# Since var is a tuple, 4 will not be appended & there is an AttributeError: the tuple object has no attribute append."
   ]
  },
  {
   "cell_type": "markdown",
   "metadata": {},
   "source": [
    "### Question 8"
   ]
  },
  {
   "cell_type": "code",
   "execution_count": null,
   "metadata": {},
   "outputs": [],
   "source": [
    "# What is the value of '4' * 4?\n",
    "\n",
    "# Result will be 4444"
   ]
  },
  {
   "cell_type": "markdown",
   "metadata": {},
   "source": [
    "### Question 9"
   ]
  },
  {
   "cell_type": "code",
   "execution_count": null,
   "metadata": {},
   "outputs": [],
   "source": [
    "# How many times will this loop run before terminating?\n",
    "\n",
    "# a = [1,2,3,4]\n",
    "# while True:\n",
    "#    print(a[0])\n",
    "\n",
    "# The loop will run infinity times before terminating"
   ]
  }
 ],
 "metadata": {
  "kernelspec": {
   "display_name": "Python 3",
   "language": "python",
   "name": "python3"
  },
  "language_info": {
   "codemirror_mode": {
    "name": "ipython",
    "version": 3
   },
   "file_extension": ".py",
   "mimetype": "text/x-python",
   "name": "python",
   "nbconvert_exporter": "python",
   "pygments_lexer": "ipython3",
   "version": "3.10.8"
  }
 },
 "nbformat": 4,
 "nbformat_minor": 2
}
